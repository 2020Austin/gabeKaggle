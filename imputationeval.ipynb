{
 "metadata": {
  "language_info": {
   "codemirror_mode": {
    "name": "ipython",
    "version": 3
   },
   "file_extension": ".py",
   "mimetype": "text/x-python",
   "name": "python",
   "nbconvert_exporter": "python",
   "pygments_lexer": "ipython3",
   "version": "3.9.1-final"
  },
  "orig_nbformat": 2,
  "kernelspec": {
   "name": "python3",
   "display_name": "Python 3.9.1 64-bit",
   "metadata": {
    "interpreter": {
     "hash": "aee8b7b246df8f9039afb4144a1f6fd8d2ca17a180786b69acc140d282b71a49"
    }
   }
  }
 },
 "nbformat": 4,
 "nbformat_minor": 2,
 "cells": [
  {
   "source": [
    "Imputation evaluation"
   ],
   "cell_type": "markdown",
   "metadata": {}
  },
  {
   "cell_type": "code",
   "execution_count": null,
   "metadata": {},
   "outputs": [],
   "source": [
    "import pandas as pd\n",
    "import numpy as np"
   ]
  },
  {
   "cell_type": "code",
   "execution_count": 141,
   "metadata": {},
   "outputs": [
    {
     "output_type": "execute_result",
     "data": {
      "text/plain": [
       "        SeriousDlqin2yrs  RevolvingUtilizationOfUnsecuredLines  age  \\\n",
       "0                      1                              0.766127   45   \n",
       "1                      0                              0.957151   40   \n",
       "2                      0                              0.658180   38   \n",
       "3                      0                              0.233810   30   \n",
       "4                      0                              0.907239   49   \n",
       "...                  ...                                   ...  ...   \n",
       "149995                 0                              0.040674   74   \n",
       "149996                 0                              0.299745   44   \n",
       "149997                 0                              0.246044   58   \n",
       "149998                 0                              0.000000   30   \n",
       "149999                 0                              0.850283   64   \n",
       "\n",
       "        NumberOfTime30-59DaysPastDueNotWorse    DebtRatio  MonthlyIncome  \\\n",
       "0                                          2     0.802982         9120.0   \n",
       "1                                          0     0.121876         2600.0   \n",
       "2                                          1     0.085113         3042.0   \n",
       "3                                          0     0.036050         3300.0   \n",
       "4                                          1     0.024926        63588.0   \n",
       "...                                      ...          ...            ...   \n",
       "149995                                     0     0.225131         2100.0   \n",
       "149996                                     0     0.716562         5584.0   \n",
       "149997                                     0  3870.000000            NaN   \n",
       "149998                                     0     0.000000         5716.0   \n",
       "149999                                     0     0.249908         8158.0   \n",
       "\n",
       "        NumberOfOpenCreditLinesAndLoans  NumberOfTimes90DaysLate  \\\n",
       "0                                    13                        0   \n",
       "1                                     4                        0   \n",
       "2                                     2                        1   \n",
       "3                                     5                        0   \n",
       "4                                     7                        0   \n",
       "...                                 ...                      ...   \n",
       "149995                                4                        0   \n",
       "149996                                4                        0   \n",
       "149997                               18                        0   \n",
       "149998                                4                        0   \n",
       "149999                                8                        0   \n",
       "\n",
       "        NumberRealEstateLoansOrLines  NumberOfTime60-89DaysPastDueNotWorse  \\\n",
       "0                                  6                                     0   \n",
       "1                                  0                                     0   \n",
       "2                                  0                                     0   \n",
       "3                                  0                                     0   \n",
       "4                                  1                                     0   \n",
       "...                              ...                                   ...   \n",
       "149995                             1                                     0   \n",
       "149996                             1                                     0   \n",
       "149997                             1                                     0   \n",
       "149998                             0                                     0   \n",
       "149999                             2                                     0   \n",
       "\n",
       "        NumberOfDependents  \n",
       "0                      2.0  \n",
       "1                      1.0  \n",
       "2                      0.0  \n",
       "3                      0.0  \n",
       "4                      0.0  \n",
       "...                    ...  \n",
       "149995                 0.0  \n",
       "149996                 2.0  \n",
       "149997                 0.0  \n",
       "149998                 0.0  \n",
       "149999                 0.0  \n",
       "\n",
       "[150000 rows x 11 columns]"
      ],
      "text/html": "<div>\n<style scoped>\n    .dataframe tbody tr th:only-of-type {\n        vertical-align: middle;\n    }\n\n    .dataframe tbody tr th {\n        vertical-align: top;\n    }\n\n    .dataframe thead th {\n        text-align: right;\n    }\n</style>\n<table border=\"1\" class=\"dataframe\">\n  <thead>\n    <tr style=\"text-align: right;\">\n      <th></th>\n      <th>SeriousDlqin2yrs</th>\n      <th>RevolvingUtilizationOfUnsecuredLines</th>\n      <th>age</th>\n      <th>NumberOfTime30-59DaysPastDueNotWorse</th>\n      <th>DebtRatio</th>\n      <th>MonthlyIncome</th>\n      <th>NumberOfOpenCreditLinesAndLoans</th>\n      <th>NumberOfTimes90DaysLate</th>\n      <th>NumberRealEstateLoansOrLines</th>\n      <th>NumberOfTime60-89DaysPastDueNotWorse</th>\n      <th>NumberOfDependents</th>\n    </tr>\n  </thead>\n  <tbody>\n    <tr>\n      <th>0</th>\n      <td>1</td>\n      <td>0.766127</td>\n      <td>45</td>\n      <td>2</td>\n      <td>0.802982</td>\n      <td>9120.0</td>\n      <td>13</td>\n      <td>0</td>\n      <td>6</td>\n      <td>0</td>\n      <td>2.0</td>\n    </tr>\n    <tr>\n      <th>1</th>\n      <td>0</td>\n      <td>0.957151</td>\n      <td>40</td>\n      <td>0</td>\n      <td>0.121876</td>\n      <td>2600.0</td>\n      <td>4</td>\n      <td>0</td>\n      <td>0</td>\n      <td>0</td>\n      <td>1.0</td>\n    </tr>\n    <tr>\n      <th>2</th>\n      <td>0</td>\n      <td>0.658180</td>\n      <td>38</td>\n      <td>1</td>\n      <td>0.085113</td>\n      <td>3042.0</td>\n      <td>2</td>\n      <td>1</td>\n      <td>0</td>\n      <td>0</td>\n      <td>0.0</td>\n    </tr>\n    <tr>\n      <th>3</th>\n      <td>0</td>\n      <td>0.233810</td>\n      <td>30</td>\n      <td>0</td>\n      <td>0.036050</td>\n      <td>3300.0</td>\n      <td>5</td>\n      <td>0</td>\n      <td>0</td>\n      <td>0</td>\n      <td>0.0</td>\n    </tr>\n    <tr>\n      <th>4</th>\n      <td>0</td>\n      <td>0.907239</td>\n      <td>49</td>\n      <td>1</td>\n      <td>0.024926</td>\n      <td>63588.0</td>\n      <td>7</td>\n      <td>0</td>\n      <td>1</td>\n      <td>0</td>\n      <td>0.0</td>\n    </tr>\n    <tr>\n      <th>...</th>\n      <td>...</td>\n      <td>...</td>\n      <td>...</td>\n      <td>...</td>\n      <td>...</td>\n      <td>...</td>\n      <td>...</td>\n      <td>...</td>\n      <td>...</td>\n      <td>...</td>\n      <td>...</td>\n    </tr>\n    <tr>\n      <th>149995</th>\n      <td>0</td>\n      <td>0.040674</td>\n      <td>74</td>\n      <td>0</td>\n      <td>0.225131</td>\n      <td>2100.0</td>\n      <td>4</td>\n      <td>0</td>\n      <td>1</td>\n      <td>0</td>\n      <td>0.0</td>\n    </tr>\n    <tr>\n      <th>149996</th>\n      <td>0</td>\n      <td>0.299745</td>\n      <td>44</td>\n      <td>0</td>\n      <td>0.716562</td>\n      <td>5584.0</td>\n      <td>4</td>\n      <td>0</td>\n      <td>1</td>\n      <td>0</td>\n      <td>2.0</td>\n    </tr>\n    <tr>\n      <th>149997</th>\n      <td>0</td>\n      <td>0.246044</td>\n      <td>58</td>\n      <td>0</td>\n      <td>3870.000000</td>\n      <td>NaN</td>\n      <td>18</td>\n      <td>0</td>\n      <td>1</td>\n      <td>0</td>\n      <td>0.0</td>\n    </tr>\n    <tr>\n      <th>149998</th>\n      <td>0</td>\n      <td>0.000000</td>\n      <td>30</td>\n      <td>0</td>\n      <td>0.000000</td>\n      <td>5716.0</td>\n      <td>4</td>\n      <td>0</td>\n      <td>0</td>\n      <td>0</td>\n      <td>0.0</td>\n    </tr>\n    <tr>\n      <th>149999</th>\n      <td>0</td>\n      <td>0.850283</td>\n      <td>64</td>\n      <td>0</td>\n      <td>0.249908</td>\n      <td>8158.0</td>\n      <td>8</td>\n      <td>0</td>\n      <td>2</td>\n      <td>0</td>\n      <td>0.0</td>\n    </tr>\n  </tbody>\n</table>\n<p>150000 rows × 11 columns</p>\n</div>"
     },
     "metadata": {},
     "execution_count": 141
    }
   ],
   "source": [
    "# load in the data\n",
    "\n",
    "df = pd.read_csv(\"cs-training.csv\")\n",
    "df.drop(\"Unnamed: 0\", axis=1, inplace=True)\n",
    "df"
   ]
  },
  {
   "cell_type": "code",
   "execution_count": 142,
   "metadata": {},
   "outputs": [],
   "source": [
    "# getting rid of outliers\n",
    "\n",
    "from sklearn.ensemble import IsolationForest"
   ]
  },
  {
   "cell_type": "code",
   "execution_count": 143,
   "metadata": {},
   "outputs": [
    {
     "output_type": "stream",
     "name": "stderr",
     "text": [
      "/var/folders/fk/svllg0550bj0tsxddmfx5f1w0000gn/T/ipykernel_55476/632345360.py:3: SettingWithCopyWarning: \nA value is trying to be set on a copy of a slice from a DataFrame\n\nSee the caveats in the documentation: https://pandas.pydata.org/pandas-docs/stable/user_guide/indexing.html#returning-a-view-versus-a-copy\n  outlier_data.drop(\"SeriousDlqin2yrs\", axis=1, inplace=True)\n"
     ]
    }
   ],
   "source": [
    "outlier_data = df.dropna(inplace=False)\n",
    "len(outlier_data) # removes about 30,000 rows\n",
    "outlier_data.drop(\"SeriousDlqin2yrs\", axis=1, inplace=True)"
   ]
  },
  {
   "cell_type": "code",
   "execution_count": 166,
   "metadata": {},
   "outputs": [
    {
     "output_type": "execute_result",
     "data": {
      "text/plain": [
       "        RevolvingUtilizationOfUnsecuredLines  age  \\\n",
       "0                                   0.766127   45   \n",
       "1                                   0.957151   40   \n",
       "2                                   0.658180   38   \n",
       "3                                   0.233810   30   \n",
       "4                                   0.907239   49   \n",
       "...                                      ...  ...   \n",
       "149994                              0.385742   50   \n",
       "149995                              0.040674   74   \n",
       "149996                              0.299745   44   \n",
       "149998                              0.000000   30   \n",
       "149999                              0.850283   64   \n",
       "\n",
       "        NumberOfTime30-59DaysPastDueNotWorse  DebtRatio  MonthlyIncome  \\\n",
       "0                                          2   0.802982         9120.0   \n",
       "1                                          0   0.121876         2600.0   \n",
       "2                                          1   0.085113         3042.0   \n",
       "3                                          0   0.036050         3300.0   \n",
       "4                                          1   0.024926        63588.0   \n",
       "...                                      ...        ...            ...   \n",
       "149994                                     0   0.404293         3400.0   \n",
       "149995                                     0   0.225131         2100.0   \n",
       "149996                                     0   0.716562         5584.0   \n",
       "149998                                     0   0.000000         5716.0   \n",
       "149999                                     0   0.249908         8158.0   \n",
       "\n",
       "        NumberOfOpenCreditLinesAndLoans  NumberOfTimes90DaysLate  \\\n",
       "0                                    13                        0   \n",
       "1                                     4                        0   \n",
       "2                                     2                        1   \n",
       "3                                     5                        0   \n",
       "4                                     7                        0   \n",
       "...                                 ...                      ...   \n",
       "149994                                7                        0   \n",
       "149995                                4                        0   \n",
       "149996                                4                        0   \n",
       "149998                                4                        0   \n",
       "149999                                8                        0   \n",
       "\n",
       "        NumberRealEstateLoansOrLines  NumberOfTime60-89DaysPastDueNotWorse  \\\n",
       "0                                  6                                     0   \n",
       "1                                  0                                     0   \n",
       "2                                  0                                     0   \n",
       "3                                  0                                     0   \n",
       "4                                  1                                     0   \n",
       "...                              ...                                   ...   \n",
       "149994                             0                                     0   \n",
       "149995                             1                                     0   \n",
       "149996                             1                                     0   \n",
       "149998                             0                                     0   \n",
       "149999                             2                                     0   \n",
       "\n",
       "        NumberOfDependents  detect  \n",
       "0                      2.0       1  \n",
       "1                      1.0       1  \n",
       "2                      0.0       1  \n",
       "3                      0.0       1  \n",
       "4                      0.0      -1  \n",
       "...                    ...     ...  \n",
       "149994                 0.0       1  \n",
       "149995                 0.0       1  \n",
       "149996                 2.0       1  \n",
       "149998                 0.0       1  \n",
       "149999                 0.0       1  \n",
       "\n",
       "[120269 rows x 11 columns]"
      ],
      "text/html": "<div>\n<style scoped>\n    .dataframe tbody tr th:only-of-type {\n        vertical-align: middle;\n    }\n\n    .dataframe tbody tr th {\n        vertical-align: top;\n    }\n\n    .dataframe thead th {\n        text-align: right;\n    }\n</style>\n<table border=\"1\" class=\"dataframe\">\n  <thead>\n    <tr style=\"text-align: right;\">\n      <th></th>\n      <th>RevolvingUtilizationOfUnsecuredLines</th>\n      <th>age</th>\n      <th>NumberOfTime30-59DaysPastDueNotWorse</th>\n      <th>DebtRatio</th>\n      <th>MonthlyIncome</th>\n      <th>NumberOfOpenCreditLinesAndLoans</th>\n      <th>NumberOfTimes90DaysLate</th>\n      <th>NumberRealEstateLoansOrLines</th>\n      <th>NumberOfTime60-89DaysPastDueNotWorse</th>\n      <th>NumberOfDependents</th>\n      <th>detect</th>\n    </tr>\n  </thead>\n  <tbody>\n    <tr>\n      <th>0</th>\n      <td>0.766127</td>\n      <td>45</td>\n      <td>2</td>\n      <td>0.802982</td>\n      <td>9120.0</td>\n      <td>13</td>\n      <td>0</td>\n      <td>6</td>\n      <td>0</td>\n      <td>2.0</td>\n      <td>1</td>\n    </tr>\n    <tr>\n      <th>1</th>\n      <td>0.957151</td>\n      <td>40</td>\n      <td>0</td>\n      <td>0.121876</td>\n      <td>2600.0</td>\n      <td>4</td>\n      <td>0</td>\n      <td>0</td>\n      <td>0</td>\n      <td>1.0</td>\n      <td>1</td>\n    </tr>\n    <tr>\n      <th>2</th>\n      <td>0.658180</td>\n      <td>38</td>\n      <td>1</td>\n      <td>0.085113</td>\n      <td>3042.0</td>\n      <td>2</td>\n      <td>1</td>\n      <td>0</td>\n      <td>0</td>\n      <td>0.0</td>\n      <td>1</td>\n    </tr>\n    <tr>\n      <th>3</th>\n      <td>0.233810</td>\n      <td>30</td>\n      <td>0</td>\n      <td>0.036050</td>\n      <td>3300.0</td>\n      <td>5</td>\n      <td>0</td>\n      <td>0</td>\n      <td>0</td>\n      <td>0.0</td>\n      <td>1</td>\n    </tr>\n    <tr>\n      <th>4</th>\n      <td>0.907239</td>\n      <td>49</td>\n      <td>1</td>\n      <td>0.024926</td>\n      <td>63588.0</td>\n      <td>7</td>\n      <td>0</td>\n      <td>1</td>\n      <td>0</td>\n      <td>0.0</td>\n      <td>-1</td>\n    </tr>\n    <tr>\n      <th>...</th>\n      <td>...</td>\n      <td>...</td>\n      <td>...</td>\n      <td>...</td>\n      <td>...</td>\n      <td>...</td>\n      <td>...</td>\n      <td>...</td>\n      <td>...</td>\n      <td>...</td>\n      <td>...</td>\n    </tr>\n    <tr>\n      <th>149994</th>\n      <td>0.385742</td>\n      <td>50</td>\n      <td>0</td>\n      <td>0.404293</td>\n      <td>3400.0</td>\n      <td>7</td>\n      <td>0</td>\n      <td>0</td>\n      <td>0</td>\n      <td>0.0</td>\n      <td>1</td>\n    </tr>\n    <tr>\n      <th>149995</th>\n      <td>0.040674</td>\n      <td>74</td>\n      <td>0</td>\n      <td>0.225131</td>\n      <td>2100.0</td>\n      <td>4</td>\n      <td>0</td>\n      <td>1</td>\n      <td>0</td>\n      <td>0.0</td>\n      <td>1</td>\n    </tr>\n    <tr>\n      <th>149996</th>\n      <td>0.299745</td>\n      <td>44</td>\n      <td>0</td>\n      <td>0.716562</td>\n      <td>5584.0</td>\n      <td>4</td>\n      <td>0</td>\n      <td>1</td>\n      <td>0</td>\n      <td>2.0</td>\n      <td>1</td>\n    </tr>\n    <tr>\n      <th>149998</th>\n      <td>0.000000</td>\n      <td>30</td>\n      <td>0</td>\n      <td>0.000000</td>\n      <td>5716.0</td>\n      <td>4</td>\n      <td>0</td>\n      <td>0</td>\n      <td>0</td>\n      <td>0.0</td>\n      <td>1</td>\n    </tr>\n    <tr>\n      <th>149999</th>\n      <td>0.850283</td>\n      <td>64</td>\n      <td>0</td>\n      <td>0.249908</td>\n      <td>8158.0</td>\n      <td>8</td>\n      <td>0</td>\n      <td>2</td>\n      <td>0</td>\n      <td>0.0</td>\n      <td>1</td>\n    </tr>\n  </tbody>\n</table>\n<p>120269 rows × 11 columns</p>\n</div>"
     },
     "metadata": {},
     "execution_count": 166
    }
   ],
   "source": [
    "outlier_data"
   ]
  },
  {
   "cell_type": "code",
   "execution_count": 144,
   "metadata": {},
   "outputs": [
    {
     "output_type": "execute_result",
     "data": {
      "text/plain": [
       "IsolationForest()"
      ]
     },
     "metadata": {},
     "execution_count": 144
    }
   ],
   "source": [
    "model = IsolationForest()\n",
    "model.fit(outlier_data)"
   ]
  },
  {
   "cell_type": "code",
   "execution_count": 145,
   "metadata": {},
   "outputs": [
    {
     "output_type": "stream",
     "name": "stderr",
     "text": [
      "/var/folders/fk/svllg0550bj0tsxddmfx5f1w0000gn/T/ipykernel_55476/1475786574.py:1: SettingWithCopyWarning: \nA value is trying to be set on a copy of a slice from a DataFrame.\nTry using .loc[row_indexer,col_indexer] = value instead\n\nSee the caveats in the documentation: https://pandas.pydata.org/pandas-docs/stable/user_guide/indexing.html#returning-a-view-versus-a-copy\n  outlier_data[\"detect\"] = model.predict(outlier_data)\n"
     ]
    }
   ],
   "source": [
    "outlier_data[\"detect\"] = model.predict(outlier_data)"
   ]
  },
  {
   "cell_type": "code",
   "execution_count": 146,
   "metadata": {},
   "outputs": [],
   "source": [
    "df[\"detect\"] = outlier_data[\"detect\"]"
   ]
  },
  {
   "cell_type": "code",
   "execution_count": 147,
   "metadata": {},
   "outputs": [],
   "source": [
    "data_no_outlier = df[df[\"detect\"]!=-1]"
   ]
  },
  {
   "cell_type": "code",
   "execution_count": 148,
   "metadata": {},
   "outputs": [
    {
     "output_type": "execute_result",
     "data": {
      "text/plain": [
       "        SeriousDlqin2yrs  RevolvingUtilizationOfUnsecuredLines  age  \\\n",
       "0                      1                              0.766127   45   \n",
       "1                      0                              0.957151   40   \n",
       "2                      0                              0.658180   38   \n",
       "3                      0                              0.233810   30   \n",
       "5                      0                              0.213179   74   \n",
       "...                  ...                                   ...  ...   \n",
       "149995                 0                              0.040674   74   \n",
       "149996                 0                              0.299745   44   \n",
       "149997                 0                              0.246044   58   \n",
       "149998                 0                              0.000000   30   \n",
       "149999                 0                              0.850283   64   \n",
       "\n",
       "        NumberOfTime30-59DaysPastDueNotWorse    DebtRatio  MonthlyIncome  \\\n",
       "0                                          2     0.802982         9120.0   \n",
       "1                                          0     0.121876         2600.0   \n",
       "2                                          1     0.085113         3042.0   \n",
       "3                                          0     0.036050         3300.0   \n",
       "5                                          0     0.375607         3500.0   \n",
       "...                                      ...          ...            ...   \n",
       "149995                                     0     0.225131         2100.0   \n",
       "149996                                     0     0.716562         5584.0   \n",
       "149997                                     0  3870.000000            NaN   \n",
       "149998                                     0     0.000000         5716.0   \n",
       "149999                                     0     0.249908         8158.0   \n",
       "\n",
       "        NumberOfOpenCreditLinesAndLoans  NumberOfTimes90DaysLate  \\\n",
       "0                                    13                        0   \n",
       "1                                     4                        0   \n",
       "2                                     2                        1   \n",
       "3                                     5                        0   \n",
       "5                                     3                        0   \n",
       "...                                 ...                      ...   \n",
       "149995                                4                        0   \n",
       "149996                                4                        0   \n",
       "149997                               18                        0   \n",
       "149998                                4                        0   \n",
       "149999                                8                        0   \n",
       "\n",
       "        NumberRealEstateLoansOrLines  NumberOfTime60-89DaysPastDueNotWorse  \\\n",
       "0                                  6                                     0   \n",
       "1                                  0                                     0   \n",
       "2                                  0                                     0   \n",
       "3                                  0                                     0   \n",
       "5                                  1                                     0   \n",
       "...                              ...                                   ...   \n",
       "149995                             1                                     0   \n",
       "149996                             1                                     0   \n",
       "149997                             1                                     0   \n",
       "149998                             0                                     0   \n",
       "149999                             2                                     0   \n",
       "\n",
       "        NumberOfDependents  detect  \n",
       "0                      2.0     1.0  \n",
       "1                      1.0     1.0  \n",
       "2                      0.0     1.0  \n",
       "3                      0.0     1.0  \n",
       "5                      1.0     1.0  \n",
       "...                    ...     ...  \n",
       "149995                 0.0     1.0  \n",
       "149996                 2.0     1.0  \n",
       "149997                 0.0     NaN  \n",
       "149998                 0.0     1.0  \n",
       "149999                 0.0     1.0  \n",
       "\n",
       "[143474 rows x 12 columns]"
      ],
      "text/html": "<div>\n<style scoped>\n    .dataframe tbody tr th:only-of-type {\n        vertical-align: middle;\n    }\n\n    .dataframe tbody tr th {\n        vertical-align: top;\n    }\n\n    .dataframe thead th {\n        text-align: right;\n    }\n</style>\n<table border=\"1\" class=\"dataframe\">\n  <thead>\n    <tr style=\"text-align: right;\">\n      <th></th>\n      <th>SeriousDlqin2yrs</th>\n      <th>RevolvingUtilizationOfUnsecuredLines</th>\n      <th>age</th>\n      <th>NumberOfTime30-59DaysPastDueNotWorse</th>\n      <th>DebtRatio</th>\n      <th>MonthlyIncome</th>\n      <th>NumberOfOpenCreditLinesAndLoans</th>\n      <th>NumberOfTimes90DaysLate</th>\n      <th>NumberRealEstateLoansOrLines</th>\n      <th>NumberOfTime60-89DaysPastDueNotWorse</th>\n      <th>NumberOfDependents</th>\n      <th>detect</th>\n    </tr>\n  </thead>\n  <tbody>\n    <tr>\n      <th>0</th>\n      <td>1</td>\n      <td>0.766127</td>\n      <td>45</td>\n      <td>2</td>\n      <td>0.802982</td>\n      <td>9120.0</td>\n      <td>13</td>\n      <td>0</td>\n      <td>6</td>\n      <td>0</td>\n      <td>2.0</td>\n      <td>1.0</td>\n    </tr>\n    <tr>\n      <th>1</th>\n      <td>0</td>\n      <td>0.957151</td>\n      <td>40</td>\n      <td>0</td>\n      <td>0.121876</td>\n      <td>2600.0</td>\n      <td>4</td>\n      <td>0</td>\n      <td>0</td>\n      <td>0</td>\n      <td>1.0</td>\n      <td>1.0</td>\n    </tr>\n    <tr>\n      <th>2</th>\n      <td>0</td>\n      <td>0.658180</td>\n      <td>38</td>\n      <td>1</td>\n      <td>0.085113</td>\n      <td>3042.0</td>\n      <td>2</td>\n      <td>1</td>\n      <td>0</td>\n      <td>0</td>\n      <td>0.0</td>\n      <td>1.0</td>\n    </tr>\n    <tr>\n      <th>3</th>\n      <td>0</td>\n      <td>0.233810</td>\n      <td>30</td>\n      <td>0</td>\n      <td>0.036050</td>\n      <td>3300.0</td>\n      <td>5</td>\n      <td>0</td>\n      <td>0</td>\n      <td>0</td>\n      <td>0.0</td>\n      <td>1.0</td>\n    </tr>\n    <tr>\n      <th>5</th>\n      <td>0</td>\n      <td>0.213179</td>\n      <td>74</td>\n      <td>0</td>\n      <td>0.375607</td>\n      <td>3500.0</td>\n      <td>3</td>\n      <td>0</td>\n      <td>1</td>\n      <td>0</td>\n      <td>1.0</td>\n      <td>1.0</td>\n    </tr>\n    <tr>\n      <th>...</th>\n      <td>...</td>\n      <td>...</td>\n      <td>...</td>\n      <td>...</td>\n      <td>...</td>\n      <td>...</td>\n      <td>...</td>\n      <td>...</td>\n      <td>...</td>\n      <td>...</td>\n      <td>...</td>\n      <td>...</td>\n    </tr>\n    <tr>\n      <th>149995</th>\n      <td>0</td>\n      <td>0.040674</td>\n      <td>74</td>\n      <td>0</td>\n      <td>0.225131</td>\n      <td>2100.0</td>\n      <td>4</td>\n      <td>0</td>\n      <td>1</td>\n      <td>0</td>\n      <td>0.0</td>\n      <td>1.0</td>\n    </tr>\n    <tr>\n      <th>149996</th>\n      <td>0</td>\n      <td>0.299745</td>\n      <td>44</td>\n      <td>0</td>\n      <td>0.716562</td>\n      <td>5584.0</td>\n      <td>4</td>\n      <td>0</td>\n      <td>1</td>\n      <td>0</td>\n      <td>2.0</td>\n      <td>1.0</td>\n    </tr>\n    <tr>\n      <th>149997</th>\n      <td>0</td>\n      <td>0.246044</td>\n      <td>58</td>\n      <td>0</td>\n      <td>3870.000000</td>\n      <td>NaN</td>\n      <td>18</td>\n      <td>0</td>\n      <td>1</td>\n      <td>0</td>\n      <td>0.0</td>\n      <td>NaN</td>\n    </tr>\n    <tr>\n      <th>149998</th>\n      <td>0</td>\n      <td>0.000000</td>\n      <td>30</td>\n      <td>0</td>\n      <td>0.000000</td>\n      <td>5716.0</td>\n      <td>4</td>\n      <td>0</td>\n      <td>0</td>\n      <td>0</td>\n      <td>0.0</td>\n      <td>1.0</td>\n    </tr>\n    <tr>\n      <th>149999</th>\n      <td>0</td>\n      <td>0.850283</td>\n      <td>64</td>\n      <td>0</td>\n      <td>0.249908</td>\n      <td>8158.0</td>\n      <td>8</td>\n      <td>0</td>\n      <td>2</td>\n      <td>0</td>\n      <td>0.0</td>\n      <td>1.0</td>\n    </tr>\n  </tbody>\n</table>\n<p>143474 rows × 12 columns</p>\n</div>"
     },
     "metadata": {},
     "execution_count": 148
    }
   ],
   "source": [
    "data_no_outlier"
   ]
  },
  {
   "cell_type": "code",
   "execution_count": 149,
   "metadata": {},
   "outputs": [],
   "source": [
    "# Imputation testing\n",
    "\n",
    "# Remove values at random and see how well the imputation model does"
   ]
  },
  {
   "cell_type": "code",
   "execution_count": 150,
   "metadata": {},
   "outputs": [],
   "source": [
    "data_no_outlier = data_no_outlier.drop(\"detect\", axis=1, inplace=False)"
   ]
  },
  {
   "cell_type": "code",
   "execution_count": 151,
   "metadata": {},
   "outputs": [],
   "source": [
    "from sklearn.experimental import enable_iterative_imputer\n",
    "from sklearn.impute import IterativeImputer"
   ]
  },
  {
   "cell_type": "code",
   "execution_count": 152,
   "metadata": {},
   "outputs": [],
   "source": [
    "# imputation model\n",
    "\n",
    "imputation_model = IterativeImputer(\n",
    "       skip_complete=True,\n",
    "       initial_strategy='mean',\n",
    "       max_iter=10\n",
    ")"
   ]
  },
  {
   "cell_type": "code",
   "execution_count": 153,
   "metadata": {},
   "outputs": [],
   "source": [
    "# change random values to NaN\n",
    "\n",
    "df_new = data_no_outlier\n",
    "df_update1 = df_new.sample(100)\n",
    "df_update1['MonthlyIncome'] = np.nan\n",
    "df_update2 = df_new.sample(100)\n",
    "df_update2['NumberOfDependents'] = np.nan\n",
    "df_new.update(df_update1)\n",
    "df_new.update(df_update2)"
   ]
  },
  {
   "cell_type": "code",
   "execution_count": 154,
   "metadata": {},
   "outputs": [
    {
     "output_type": "execute_result",
     "data": {
      "text/plain": [
       "        SeriousDlqin2yrs  RevolvingUtilizationOfUnsecuredLines   age  \\\n",
       "0                    1.0                              0.766127  45.0   \n",
       "1                    0.0                              0.957151  40.0   \n",
       "2                    0.0                              0.658180  38.0   \n",
       "3                    0.0                              0.233810  30.0   \n",
       "5                    0.0                              0.213179  74.0   \n",
       "...                  ...                                   ...   ...   \n",
       "149995               0.0                              0.040674  74.0   \n",
       "149996               0.0                              0.299745  44.0   \n",
       "149997               0.0                              0.246044  58.0   \n",
       "149998               0.0                              0.000000  30.0   \n",
       "149999               0.0                              0.850283  64.0   \n",
       "\n",
       "        NumberOfTime30-59DaysPastDueNotWorse    DebtRatio  MonthlyIncome  \\\n",
       "0                                        2.0     0.802982         9120.0   \n",
       "1                                        0.0     0.121876         2600.0   \n",
       "2                                        1.0     0.085113         3042.0   \n",
       "3                                        0.0     0.036050         3300.0   \n",
       "5                                        0.0     0.375607         3500.0   \n",
       "...                                      ...          ...            ...   \n",
       "149995                                   0.0     0.225131         2100.0   \n",
       "149996                                   0.0     0.716562         5584.0   \n",
       "149997                                   0.0  3870.000000            NaN   \n",
       "149998                                   0.0     0.000000         5716.0   \n",
       "149999                                   0.0     0.249908         8158.0   \n",
       "\n",
       "        NumberOfOpenCreditLinesAndLoans  NumberOfTimes90DaysLate  \\\n",
       "0                                  13.0                      0.0   \n",
       "1                                   4.0                      0.0   \n",
       "2                                   2.0                      1.0   \n",
       "3                                   5.0                      0.0   \n",
       "5                                   3.0                      0.0   \n",
       "...                                 ...                      ...   \n",
       "149995                              4.0                      0.0   \n",
       "149996                              4.0                      0.0   \n",
       "149997                             18.0                      0.0   \n",
       "149998                              4.0                      0.0   \n",
       "149999                              8.0                      0.0   \n",
       "\n",
       "        NumberRealEstateLoansOrLines  NumberOfTime60-89DaysPastDueNotWorse  \\\n",
       "0                                6.0                                   0.0   \n",
       "1                                0.0                                   0.0   \n",
       "2                                0.0                                   0.0   \n",
       "3                                0.0                                   0.0   \n",
       "5                                1.0                                   0.0   \n",
       "...                              ...                                   ...   \n",
       "149995                           1.0                                   0.0   \n",
       "149996                           1.0                                   0.0   \n",
       "149997                           1.0                                   0.0   \n",
       "149998                           0.0                                   0.0   \n",
       "149999                           2.0                                   0.0   \n",
       "\n",
       "        NumberOfDependents  \n",
       "0                      2.0  \n",
       "1                      1.0  \n",
       "2                      0.0  \n",
       "3                      0.0  \n",
       "5                      1.0  \n",
       "...                    ...  \n",
       "149995                 0.0  \n",
       "149996                 2.0  \n",
       "149997                 0.0  \n",
       "149998                 0.0  \n",
       "149999                 0.0  \n",
       "\n",
       "[143474 rows x 11 columns]"
      ],
      "text/html": "<div>\n<style scoped>\n    .dataframe tbody tr th:only-of-type {\n        vertical-align: middle;\n    }\n\n    .dataframe tbody tr th {\n        vertical-align: top;\n    }\n\n    .dataframe thead th {\n        text-align: right;\n    }\n</style>\n<table border=\"1\" class=\"dataframe\">\n  <thead>\n    <tr style=\"text-align: right;\">\n      <th></th>\n      <th>SeriousDlqin2yrs</th>\n      <th>RevolvingUtilizationOfUnsecuredLines</th>\n      <th>age</th>\n      <th>NumberOfTime30-59DaysPastDueNotWorse</th>\n      <th>DebtRatio</th>\n      <th>MonthlyIncome</th>\n      <th>NumberOfOpenCreditLinesAndLoans</th>\n      <th>NumberOfTimes90DaysLate</th>\n      <th>NumberRealEstateLoansOrLines</th>\n      <th>NumberOfTime60-89DaysPastDueNotWorse</th>\n      <th>NumberOfDependents</th>\n    </tr>\n  </thead>\n  <tbody>\n    <tr>\n      <th>0</th>\n      <td>1.0</td>\n      <td>0.766127</td>\n      <td>45.0</td>\n      <td>2.0</td>\n      <td>0.802982</td>\n      <td>9120.0</td>\n      <td>13.0</td>\n      <td>0.0</td>\n      <td>6.0</td>\n      <td>0.0</td>\n      <td>2.0</td>\n    </tr>\n    <tr>\n      <th>1</th>\n      <td>0.0</td>\n      <td>0.957151</td>\n      <td>40.0</td>\n      <td>0.0</td>\n      <td>0.121876</td>\n      <td>2600.0</td>\n      <td>4.0</td>\n      <td>0.0</td>\n      <td>0.0</td>\n      <td>0.0</td>\n      <td>1.0</td>\n    </tr>\n    <tr>\n      <th>2</th>\n      <td>0.0</td>\n      <td>0.658180</td>\n      <td>38.0</td>\n      <td>1.0</td>\n      <td>0.085113</td>\n      <td>3042.0</td>\n      <td>2.0</td>\n      <td>1.0</td>\n      <td>0.0</td>\n      <td>0.0</td>\n      <td>0.0</td>\n    </tr>\n    <tr>\n      <th>3</th>\n      <td>0.0</td>\n      <td>0.233810</td>\n      <td>30.0</td>\n      <td>0.0</td>\n      <td>0.036050</td>\n      <td>3300.0</td>\n      <td>5.0</td>\n      <td>0.0</td>\n      <td>0.0</td>\n      <td>0.0</td>\n      <td>0.0</td>\n    </tr>\n    <tr>\n      <th>5</th>\n      <td>0.0</td>\n      <td>0.213179</td>\n      <td>74.0</td>\n      <td>0.0</td>\n      <td>0.375607</td>\n      <td>3500.0</td>\n      <td>3.0</td>\n      <td>0.0</td>\n      <td>1.0</td>\n      <td>0.0</td>\n      <td>1.0</td>\n    </tr>\n    <tr>\n      <th>...</th>\n      <td>...</td>\n      <td>...</td>\n      <td>...</td>\n      <td>...</td>\n      <td>...</td>\n      <td>...</td>\n      <td>...</td>\n      <td>...</td>\n      <td>...</td>\n      <td>...</td>\n      <td>...</td>\n    </tr>\n    <tr>\n      <th>149995</th>\n      <td>0.0</td>\n      <td>0.040674</td>\n      <td>74.0</td>\n      <td>0.0</td>\n      <td>0.225131</td>\n      <td>2100.0</td>\n      <td>4.0</td>\n      <td>0.0</td>\n      <td>1.0</td>\n      <td>0.0</td>\n      <td>0.0</td>\n    </tr>\n    <tr>\n      <th>149996</th>\n      <td>0.0</td>\n      <td>0.299745</td>\n      <td>44.0</td>\n      <td>0.0</td>\n      <td>0.716562</td>\n      <td>5584.0</td>\n      <td>4.0</td>\n      <td>0.0</td>\n      <td>1.0</td>\n      <td>0.0</td>\n      <td>2.0</td>\n    </tr>\n    <tr>\n      <th>149997</th>\n      <td>0.0</td>\n      <td>0.246044</td>\n      <td>58.0</td>\n      <td>0.0</td>\n      <td>3870.000000</td>\n      <td>NaN</td>\n      <td>18.0</td>\n      <td>0.0</td>\n      <td>1.0</td>\n      <td>0.0</td>\n      <td>0.0</td>\n    </tr>\n    <tr>\n      <th>149998</th>\n      <td>0.0</td>\n      <td>0.000000</td>\n      <td>30.0</td>\n      <td>0.0</td>\n      <td>0.000000</td>\n      <td>5716.0</td>\n      <td>4.0</td>\n      <td>0.0</td>\n      <td>0.0</td>\n      <td>0.0</td>\n      <td>0.0</td>\n    </tr>\n    <tr>\n      <th>149999</th>\n      <td>0.0</td>\n      <td>0.850283</td>\n      <td>64.0</td>\n      <td>0.0</td>\n      <td>0.249908</td>\n      <td>8158.0</td>\n      <td>8.0</td>\n      <td>0.0</td>\n      <td>2.0</td>\n      <td>0.0</td>\n      <td>0.0</td>\n    </tr>\n  </tbody>\n</table>\n<p>143474 rows × 11 columns</p>\n</div>"
     },
     "metadata": {},
     "execution_count": 154
    }
   ],
   "source": [
    "df_new"
   ]
  },
  {
   "cell_type": "code",
   "execution_count": 155,
   "metadata": {},
   "outputs": [],
   "source": [
    "# run our imputation model on our dataset with extra NaNs\n",
    "\n",
    "tester = imputation_model.fit_transform(df_new)"
   ]
  },
  {
   "cell_type": "code",
   "execution_count": 156,
   "metadata": {},
   "outputs": [
    {
     "output_type": "execute_result",
     "data": {
      "text/plain": [
       "        SeriousDlqin2yrs  RevolvingUtilizationOfUnsecuredLines   age  \\\n",
       "0                    1.0                              0.766127  45.0   \n",
       "1                    0.0                              0.957151  40.0   \n",
       "2                    0.0                              0.658180  38.0   \n",
       "3                    0.0                              0.233810  30.0   \n",
       "4                    0.0                              0.213179  74.0   \n",
       "...                  ...                                   ...   ...   \n",
       "143469               0.0                              0.040674  74.0   \n",
       "143470               0.0                              0.299745  44.0   \n",
       "143471               0.0                              0.246044  58.0   \n",
       "143472               0.0                              0.000000  30.0   \n",
       "143473               0.0                              0.850283  64.0   \n",
       "\n",
       "        NumberOfTime30-59DaysPastDueNotWorse    DebtRatio  MonthlyIncome  \\\n",
       "0                                        2.0     0.802982    9120.000000   \n",
       "1                                        0.0     0.121876    2600.000000   \n",
       "2                                        1.0     0.085113    3042.000000   \n",
       "3                                        0.0     0.036050    3300.000000   \n",
       "4                                        0.0     0.375607    3500.000000   \n",
       "...                                      ...          ...            ...   \n",
       "143469                                   0.0     0.225131    2100.000000   \n",
       "143470                                   0.0     0.716562    5584.000000   \n",
       "143471                                   0.0  3870.000000  -31612.870685   \n",
       "143472                                   0.0     0.000000    5716.000000   \n",
       "143473                                   0.0     0.249908    8158.000000   \n",
       "\n",
       "        NumberOfOpenCreditLinesAndLoans  NumberOfTimes90DaysLate  \\\n",
       "0                                  13.0                      0.0   \n",
       "1                                   4.0                      0.0   \n",
       "2                                   2.0                      1.0   \n",
       "3                                   5.0                      0.0   \n",
       "4                                   3.0                      0.0   \n",
       "...                                 ...                      ...   \n",
       "143469                              4.0                      0.0   \n",
       "143470                              4.0                      0.0   \n",
       "143471                             18.0                      0.0   \n",
       "143472                              4.0                      0.0   \n",
       "143473                              8.0                      0.0   \n",
       "\n",
       "        NumberRealEstateLoansOrLines  NumberOfTime60-89DaysPastDueNotWorse  \\\n",
       "0                                6.0                                   0.0   \n",
       "1                                0.0                                   0.0   \n",
       "2                                0.0                                   0.0   \n",
       "3                                0.0                                   0.0   \n",
       "4                                1.0                                   0.0   \n",
       "...                              ...                                   ...   \n",
       "143469                           1.0                                   0.0   \n",
       "143470                           1.0                                   0.0   \n",
       "143471                           1.0                                   0.0   \n",
       "143472                           0.0                                   0.0   \n",
       "143473                           2.0                                   0.0   \n",
       "\n",
       "        NumberOfDependents  \n",
       "0                      2.0  \n",
       "1                      1.0  \n",
       "2                      0.0  \n",
       "3                      0.0  \n",
       "4                      1.0  \n",
       "...                    ...  \n",
       "143469                 0.0  \n",
       "143470                 2.0  \n",
       "143471                 0.0  \n",
       "143472                 0.0  \n",
       "143473                 0.0  \n",
       "\n",
       "[143474 rows x 11 columns]"
      ],
      "text/html": "<div>\n<style scoped>\n    .dataframe tbody tr th:only-of-type {\n        vertical-align: middle;\n    }\n\n    .dataframe tbody tr th {\n        vertical-align: top;\n    }\n\n    .dataframe thead th {\n        text-align: right;\n    }\n</style>\n<table border=\"1\" class=\"dataframe\">\n  <thead>\n    <tr style=\"text-align: right;\">\n      <th></th>\n      <th>SeriousDlqin2yrs</th>\n      <th>RevolvingUtilizationOfUnsecuredLines</th>\n      <th>age</th>\n      <th>NumberOfTime30-59DaysPastDueNotWorse</th>\n      <th>DebtRatio</th>\n      <th>MonthlyIncome</th>\n      <th>NumberOfOpenCreditLinesAndLoans</th>\n      <th>NumberOfTimes90DaysLate</th>\n      <th>NumberRealEstateLoansOrLines</th>\n      <th>NumberOfTime60-89DaysPastDueNotWorse</th>\n      <th>NumberOfDependents</th>\n    </tr>\n  </thead>\n  <tbody>\n    <tr>\n      <th>0</th>\n      <td>1.0</td>\n      <td>0.766127</td>\n      <td>45.0</td>\n      <td>2.0</td>\n      <td>0.802982</td>\n      <td>9120.000000</td>\n      <td>13.0</td>\n      <td>0.0</td>\n      <td>6.0</td>\n      <td>0.0</td>\n      <td>2.0</td>\n    </tr>\n    <tr>\n      <th>1</th>\n      <td>0.0</td>\n      <td>0.957151</td>\n      <td>40.0</td>\n      <td>0.0</td>\n      <td>0.121876</td>\n      <td>2600.000000</td>\n      <td>4.0</td>\n      <td>0.0</td>\n      <td>0.0</td>\n      <td>0.0</td>\n      <td>1.0</td>\n    </tr>\n    <tr>\n      <th>2</th>\n      <td>0.0</td>\n      <td>0.658180</td>\n      <td>38.0</td>\n      <td>1.0</td>\n      <td>0.085113</td>\n      <td>3042.000000</td>\n      <td>2.0</td>\n      <td>1.0</td>\n      <td>0.0</td>\n      <td>0.0</td>\n      <td>0.0</td>\n    </tr>\n    <tr>\n      <th>3</th>\n      <td>0.0</td>\n      <td>0.233810</td>\n      <td>30.0</td>\n      <td>0.0</td>\n      <td>0.036050</td>\n      <td>3300.000000</td>\n      <td>5.0</td>\n      <td>0.0</td>\n      <td>0.0</td>\n      <td>0.0</td>\n      <td>0.0</td>\n    </tr>\n    <tr>\n      <th>4</th>\n      <td>0.0</td>\n      <td>0.213179</td>\n      <td>74.0</td>\n      <td>0.0</td>\n      <td>0.375607</td>\n      <td>3500.000000</td>\n      <td>3.0</td>\n      <td>0.0</td>\n      <td>1.0</td>\n      <td>0.0</td>\n      <td>1.0</td>\n    </tr>\n    <tr>\n      <th>...</th>\n      <td>...</td>\n      <td>...</td>\n      <td>...</td>\n      <td>...</td>\n      <td>...</td>\n      <td>...</td>\n      <td>...</td>\n      <td>...</td>\n      <td>...</td>\n      <td>...</td>\n      <td>...</td>\n    </tr>\n    <tr>\n      <th>143469</th>\n      <td>0.0</td>\n      <td>0.040674</td>\n      <td>74.0</td>\n      <td>0.0</td>\n      <td>0.225131</td>\n      <td>2100.000000</td>\n      <td>4.0</td>\n      <td>0.0</td>\n      <td>1.0</td>\n      <td>0.0</td>\n      <td>0.0</td>\n    </tr>\n    <tr>\n      <th>143470</th>\n      <td>0.0</td>\n      <td>0.299745</td>\n      <td>44.0</td>\n      <td>0.0</td>\n      <td>0.716562</td>\n      <td>5584.000000</td>\n      <td>4.0</td>\n      <td>0.0</td>\n      <td>1.0</td>\n      <td>0.0</td>\n      <td>2.0</td>\n    </tr>\n    <tr>\n      <th>143471</th>\n      <td>0.0</td>\n      <td>0.246044</td>\n      <td>58.0</td>\n      <td>0.0</td>\n      <td>3870.000000</td>\n      <td>-31612.870685</td>\n      <td>18.0</td>\n      <td>0.0</td>\n      <td>1.0</td>\n      <td>0.0</td>\n      <td>0.0</td>\n    </tr>\n    <tr>\n      <th>143472</th>\n      <td>0.0</td>\n      <td>0.000000</td>\n      <td>30.0</td>\n      <td>0.0</td>\n      <td>0.000000</td>\n      <td>5716.000000</td>\n      <td>4.0</td>\n      <td>0.0</td>\n      <td>0.0</td>\n      <td>0.0</td>\n      <td>0.0</td>\n    </tr>\n    <tr>\n      <th>143473</th>\n      <td>0.0</td>\n      <td>0.850283</td>\n      <td>64.0</td>\n      <td>0.0</td>\n      <td>0.249908</td>\n      <td>8158.000000</td>\n      <td>8.0</td>\n      <td>0.0</td>\n      <td>2.0</td>\n      <td>0.0</td>\n      <td>0.0</td>\n    </tr>\n  </tbody>\n</table>\n<p>143474 rows × 11 columns</p>\n</div>"
     },
     "metadata": {},
     "execution_count": 156
    }
   ],
   "source": [
    "new_data = pd.DataFrame(tester)\n",
    "new_data.columns = df.columns[:-1]\n",
    "new_data"
   ]
  },
  {
   "cell_type": "code",
   "execution_count": 164,
   "metadata": {},
   "outputs": [
    {
     "output_type": "execute_result",
     "data": {
      "text/plain": [
       "          SeriousDlqin2yrs  RevolvingUtilizationOfUnsecuredLines   age  \\\n",
       "newIndex                                                                 \n",
       "0                      1.0                              0.766127  45.0   \n",
       "1                      0.0                              0.957151  40.0   \n",
       "2                      0.0                              0.658180  38.0   \n",
       "3                      0.0                              0.233810  30.0   \n",
       "5                      0.0                              0.213179  74.0   \n",
       "...                    ...                                   ...   ...   \n",
       "149995                 0.0                              0.040674  74.0   \n",
       "149996                 0.0                              0.299745  44.0   \n",
       "149997                 0.0                              0.246044  58.0   \n",
       "149998                 0.0                              0.000000  30.0   \n",
       "149999                 0.0                              0.850283  64.0   \n",
       "\n",
       "          NumberOfTime30-59DaysPastDueNotWorse    DebtRatio  MonthlyIncome  \\\n",
       "newIndex                                                                     \n",
       "0                                          2.0     0.802982    9120.000000   \n",
       "1                                          0.0     0.121876    2600.000000   \n",
       "2                                          1.0     0.085113    3042.000000   \n",
       "3                                          0.0     0.036050    3300.000000   \n",
       "5                                          0.0     0.375607    3500.000000   \n",
       "...                                        ...          ...            ...   \n",
       "149995                                     0.0     0.225131    2100.000000   \n",
       "149996                                     0.0     0.716562    5584.000000   \n",
       "149997                                     0.0  3870.000000  -31612.870685   \n",
       "149998                                     0.0     0.000000    5716.000000   \n",
       "149999                                     0.0     0.249908    8158.000000   \n",
       "\n",
       "          NumberOfOpenCreditLinesAndLoans  NumberOfTimes90DaysLate  \\\n",
       "newIndex                                                             \n",
       "0                                    13.0                      0.0   \n",
       "1                                     4.0                      0.0   \n",
       "2                                     2.0                      1.0   \n",
       "3                                     5.0                      0.0   \n",
       "5                                     3.0                      0.0   \n",
       "...                                   ...                      ...   \n",
       "149995                                4.0                      0.0   \n",
       "149996                                4.0                      0.0   \n",
       "149997                               18.0                      0.0   \n",
       "149998                                4.0                      0.0   \n",
       "149999                                8.0                      0.0   \n",
       "\n",
       "          NumberRealEstateLoansOrLines  NumberOfTime60-89DaysPastDueNotWorse  \\\n",
       "newIndex                                                                       \n",
       "0                                  6.0                                   0.0   \n",
       "1                                  0.0                                   0.0   \n",
       "2                                  0.0                                   0.0   \n",
       "3                                  0.0                                   0.0   \n",
       "5                                  1.0                                   0.0   \n",
       "...                                ...                                   ...   \n",
       "149995                             1.0                                   0.0   \n",
       "149996                             1.0                                   0.0   \n",
       "149997                             1.0                                   0.0   \n",
       "149998                             0.0                                   0.0   \n",
       "149999                             2.0                                   0.0   \n",
       "\n",
       "          NumberOfDependents  \n",
       "newIndex                      \n",
       "0                        2.0  \n",
       "1                        1.0  \n",
       "2                        0.0  \n",
       "3                        0.0  \n",
       "5                        1.0  \n",
       "...                      ...  \n",
       "149995                   0.0  \n",
       "149996                   2.0  \n",
       "149997                   0.0  \n",
       "149998                   0.0  \n",
       "149999                   0.0  \n",
       "\n",
       "[143474 rows x 11 columns]"
      ],
      "text/html": "<div>\n<style scoped>\n    .dataframe tbody tr th:only-of-type {\n        vertical-align: middle;\n    }\n\n    .dataframe tbody tr th {\n        vertical-align: top;\n    }\n\n    .dataframe thead th {\n        text-align: right;\n    }\n</style>\n<table border=\"1\" class=\"dataframe\">\n  <thead>\n    <tr style=\"text-align: right;\">\n      <th></th>\n      <th>SeriousDlqin2yrs</th>\n      <th>RevolvingUtilizationOfUnsecuredLines</th>\n      <th>age</th>\n      <th>NumberOfTime30-59DaysPastDueNotWorse</th>\n      <th>DebtRatio</th>\n      <th>MonthlyIncome</th>\n      <th>NumberOfOpenCreditLinesAndLoans</th>\n      <th>NumberOfTimes90DaysLate</th>\n      <th>NumberRealEstateLoansOrLines</th>\n      <th>NumberOfTime60-89DaysPastDueNotWorse</th>\n      <th>NumberOfDependents</th>\n    </tr>\n    <tr>\n      <th>newIndex</th>\n      <th></th>\n      <th></th>\n      <th></th>\n      <th></th>\n      <th></th>\n      <th></th>\n      <th></th>\n      <th></th>\n      <th></th>\n      <th></th>\n      <th></th>\n    </tr>\n  </thead>\n  <tbody>\n    <tr>\n      <th>0</th>\n      <td>1.0</td>\n      <td>0.766127</td>\n      <td>45.0</td>\n      <td>2.0</td>\n      <td>0.802982</td>\n      <td>9120.000000</td>\n      <td>13.0</td>\n      <td>0.0</td>\n      <td>6.0</td>\n      <td>0.0</td>\n      <td>2.0</td>\n    </tr>\n    <tr>\n      <th>1</th>\n      <td>0.0</td>\n      <td>0.957151</td>\n      <td>40.0</td>\n      <td>0.0</td>\n      <td>0.121876</td>\n      <td>2600.000000</td>\n      <td>4.0</td>\n      <td>0.0</td>\n      <td>0.0</td>\n      <td>0.0</td>\n      <td>1.0</td>\n    </tr>\n    <tr>\n      <th>2</th>\n      <td>0.0</td>\n      <td>0.658180</td>\n      <td>38.0</td>\n      <td>1.0</td>\n      <td>0.085113</td>\n      <td>3042.000000</td>\n      <td>2.0</td>\n      <td>1.0</td>\n      <td>0.0</td>\n      <td>0.0</td>\n      <td>0.0</td>\n    </tr>\n    <tr>\n      <th>3</th>\n      <td>0.0</td>\n      <td>0.233810</td>\n      <td>30.0</td>\n      <td>0.0</td>\n      <td>0.036050</td>\n      <td>3300.000000</td>\n      <td>5.0</td>\n      <td>0.0</td>\n      <td>0.0</td>\n      <td>0.0</td>\n      <td>0.0</td>\n    </tr>\n    <tr>\n      <th>5</th>\n      <td>0.0</td>\n      <td>0.213179</td>\n      <td>74.0</td>\n      <td>0.0</td>\n      <td>0.375607</td>\n      <td>3500.000000</td>\n      <td>3.0</td>\n      <td>0.0</td>\n      <td>1.0</td>\n      <td>0.0</td>\n      <td>1.0</td>\n    </tr>\n    <tr>\n      <th>...</th>\n      <td>...</td>\n      <td>...</td>\n      <td>...</td>\n      <td>...</td>\n      <td>...</td>\n      <td>...</td>\n      <td>...</td>\n      <td>...</td>\n      <td>...</td>\n      <td>...</td>\n      <td>...</td>\n    </tr>\n    <tr>\n      <th>149995</th>\n      <td>0.0</td>\n      <td>0.040674</td>\n      <td>74.0</td>\n      <td>0.0</td>\n      <td>0.225131</td>\n      <td>2100.000000</td>\n      <td>4.0</td>\n      <td>0.0</td>\n      <td>1.0</td>\n      <td>0.0</td>\n      <td>0.0</td>\n    </tr>\n    <tr>\n      <th>149996</th>\n      <td>0.0</td>\n      <td>0.299745</td>\n      <td>44.0</td>\n      <td>0.0</td>\n      <td>0.716562</td>\n      <td>5584.000000</td>\n      <td>4.0</td>\n      <td>0.0</td>\n      <td>1.0</td>\n      <td>0.0</td>\n      <td>2.0</td>\n    </tr>\n    <tr>\n      <th>149997</th>\n      <td>0.0</td>\n      <td>0.246044</td>\n      <td>58.0</td>\n      <td>0.0</td>\n      <td>3870.000000</td>\n      <td>-31612.870685</td>\n      <td>18.0</td>\n      <td>0.0</td>\n      <td>1.0</td>\n      <td>0.0</td>\n      <td>0.0</td>\n    </tr>\n    <tr>\n      <th>149998</th>\n      <td>0.0</td>\n      <td>0.000000</td>\n      <td>30.0</td>\n      <td>0.0</td>\n      <td>0.000000</td>\n      <td>5716.000000</td>\n      <td>4.0</td>\n      <td>0.0</td>\n      <td>0.0</td>\n      <td>0.0</td>\n      <td>0.0</td>\n    </tr>\n    <tr>\n      <th>149999</th>\n      <td>0.0</td>\n      <td>0.850283</td>\n      <td>64.0</td>\n      <td>0.0</td>\n      <td>0.249908</td>\n      <td>8158.000000</td>\n      <td>8.0</td>\n      <td>0.0</td>\n      <td>2.0</td>\n      <td>0.0</td>\n      <td>0.0</td>\n    </tr>\n  </tbody>\n</table>\n<p>143474 rows × 11 columns</p>\n</div>"
     },
     "metadata": {},
     "execution_count": 164
    }
   ],
   "source": [
    "# fully imputed data\n",
    "# reset indices to match original (to compare imputed and real values)\n",
    "\n",
    "new_ind = df_new.index.values.tolist()\n",
    "new_data_ind = new_data\n",
    "new_data_ind[\"newIndex\"]= new_ind\n",
    "new_data_ind.set_index('newIndex')"
   ]
  },
  {
   "cell_type": "code",
   "execution_count": 165,
   "metadata": {},
   "outputs": [
    {
     "output_type": "error",
     "ename": "KeyError",
     "evalue": "147790",
     "traceback": [
      "\u001b[0;31m---------------------------------------------------------------------------\u001b[0m",
      "\u001b[0;31mValueError\u001b[0m                                Traceback (most recent call last)",
      "File \u001b[0;32m/Library/Frameworks/Python.framework/Versions/3.9/lib/python3.9/site-packages/pandas/core/indexes/range.py:385\u001b[0m, in \u001b[0;36mRangeIndex.get_loc\u001b[0;34m(self, key, method, tolerance)\u001b[0m\n\u001b[1;32m    384\u001b[0m \u001b[38;5;28;01mtry\u001b[39;00m:\n\u001b[0;32m--> 385\u001b[0m     \u001b[38;5;28;01mreturn\u001b[39;00m \u001b[38;5;28;43mself\u001b[39;49m\u001b[38;5;241;43m.\u001b[39;49m\u001b[43m_range\u001b[49m\u001b[38;5;241;43m.\u001b[39;49m\u001b[43mindex\u001b[49m\u001b[43m(\u001b[49m\u001b[43mnew_key\u001b[49m\u001b[43m)\u001b[49m\n\u001b[1;32m    386\u001b[0m \u001b[38;5;28;01mexcept\u001b[39;00m \u001b[38;5;167;01mValueError\u001b[39;00m \u001b[38;5;28;01mas\u001b[39;00m err:\n",
      "\u001b[0;31mValueError\u001b[0m: 147790 is not in range",
      "\nThe above exception was the direct cause of the following exception:\n",
      "\u001b[0;31mKeyError\u001b[0m                                  Traceback (most recent call last)",
      "Input \u001b[0;32mIn [165]\u001b[0m, in \u001b[0;36m<module>\u001b[0;34m\u001b[0m\n\u001b[1;32m      3\u001b[0m total_diff \u001b[38;5;241m=\u001b[39m \u001b[38;5;241m0\u001b[39m\n\u001b[1;32m      6\u001b[0m \u001b[38;5;28;01mfor\u001b[39;00m ind \u001b[38;5;129;01min\u001b[39;00m df_update1\u001b[38;5;241m.\u001b[39mindex:\n\u001b[1;32m      7\u001b[0m \n\u001b[1;32m      8\u001b[0m     \u001b[38;5;66;03m# df.loc[df['newIndex'] == ind]\u001b[39;00m\n\u001b[0;32m   (...)\u001b[0m\n\u001b[1;32m     11\u001b[0m \n\u001b[1;32m     12\u001b[0m     \u001b[38;5;66;03m# if np.isnan(data_no_outlier.loc[ind, 'MonthlyIncome']) or np.isnan(new_data_ind.loc[new_data_ind['newIndex'] == ind][\"MonthlyIncome\"]):\u001b[39;00m\n\u001b[0;32m---> 14\u001b[0m     \u001b[38;5;28mprint\u001b[39m(\u001b[43mnew_data_ind\u001b[49m\u001b[38;5;241;43m.\u001b[39;49m\u001b[43mloc\u001b[49m\u001b[43m[\u001b[49m\u001b[43mind\u001b[49m\u001b[43m]\u001b[49m)\n\u001b[1;32m     16\u001b[0m     \u001b[38;5;66;03m# if np.isnan(data_no_outlier['MonthlyIncome'][ind]) or np.isnan(new_data_ind[[ind]]):\u001b[39;00m\n\u001b[1;32m     17\u001b[0m         \u001b[38;5;66;03m# total_diff += 0\u001b[39;00m\n\u001b[1;32m     18\u001b[0m \n\u001b[0;32m   (...)\u001b[0m\n\u001b[1;32m     22\u001b[0m         \u001b[38;5;66;03m# print(difference)\u001b[39;00m\n\u001b[1;32m     23\u001b[0m         \u001b[38;5;66;03m# total_diff += abs(difference)\u001b[39;00m\n\u001b[1;32m     25\u001b[0m \u001b[38;5;28mprint\u001b[39m(total_diff\u001b[38;5;241m/\u001b[39m\u001b[38;5;241m100\u001b[39m)\n",
      "File \u001b[0;32m/Library/Frameworks/Python.framework/Versions/3.9/lib/python3.9/site-packages/pandas/core/indexing.py:967\u001b[0m, in \u001b[0;36m_LocationIndexer.__getitem__\u001b[0;34m(self, key)\u001b[0m\n\u001b[1;32m    964\u001b[0m axis \u001b[38;5;241m=\u001b[39m \u001b[38;5;28mself\u001b[39m\u001b[38;5;241m.\u001b[39maxis \u001b[38;5;129;01mor\u001b[39;00m \u001b[38;5;241m0\u001b[39m\n\u001b[1;32m    966\u001b[0m maybe_callable \u001b[38;5;241m=\u001b[39m com\u001b[38;5;241m.\u001b[39mapply_if_callable(key, \u001b[38;5;28mself\u001b[39m\u001b[38;5;241m.\u001b[39mobj)\n\u001b[0;32m--> 967\u001b[0m \u001b[38;5;28;01mreturn\u001b[39;00m \u001b[38;5;28;43mself\u001b[39;49m\u001b[38;5;241;43m.\u001b[39;49m\u001b[43m_getitem_axis\u001b[49m\u001b[43m(\u001b[49m\u001b[43mmaybe_callable\u001b[49m\u001b[43m,\u001b[49m\u001b[43m \u001b[49m\u001b[43maxis\u001b[49m\u001b[38;5;241;43m=\u001b[39;49m\u001b[43maxis\u001b[49m\u001b[43m)\u001b[49m\n",
      "File \u001b[0;32m/Library/Frameworks/Python.framework/Versions/3.9/lib/python3.9/site-packages/pandas/core/indexing.py:1202\u001b[0m, in \u001b[0;36m_LocIndexer._getitem_axis\u001b[0;34m(self, key, axis)\u001b[0m\n\u001b[1;32m   1200\u001b[0m \u001b[38;5;66;03m# fall thru to straight lookup\u001b[39;00m\n\u001b[1;32m   1201\u001b[0m \u001b[38;5;28mself\u001b[39m\u001b[38;5;241m.\u001b[39m_validate_key(key, axis)\n\u001b[0;32m-> 1202\u001b[0m \u001b[38;5;28;01mreturn\u001b[39;00m \u001b[38;5;28;43mself\u001b[39;49m\u001b[38;5;241;43m.\u001b[39;49m\u001b[43m_get_label\u001b[49m\u001b[43m(\u001b[49m\u001b[43mkey\u001b[49m\u001b[43m,\u001b[49m\u001b[43m \u001b[49m\u001b[43maxis\u001b[49m\u001b[38;5;241;43m=\u001b[39;49m\u001b[43maxis\u001b[49m\u001b[43m)\u001b[49m\n",
      "File \u001b[0;32m/Library/Frameworks/Python.framework/Versions/3.9/lib/python3.9/site-packages/pandas/core/indexing.py:1153\u001b[0m, in \u001b[0;36m_LocIndexer._get_label\u001b[0;34m(self, label, axis)\u001b[0m\n\u001b[1;32m   1151\u001b[0m \u001b[38;5;28;01mdef\u001b[39;00m \u001b[38;5;21m_get_label\u001b[39m(\u001b[38;5;28mself\u001b[39m, label, axis: \u001b[38;5;28mint\u001b[39m):\n\u001b[1;32m   1152\u001b[0m     \u001b[38;5;66;03m# GH#5667 this will fail if the label is not present in the axis.\u001b[39;00m\n\u001b[0;32m-> 1153\u001b[0m     \u001b[38;5;28;01mreturn\u001b[39;00m \u001b[38;5;28;43mself\u001b[39;49m\u001b[38;5;241;43m.\u001b[39;49m\u001b[43mobj\u001b[49m\u001b[38;5;241;43m.\u001b[39;49m\u001b[43mxs\u001b[49m\u001b[43m(\u001b[49m\u001b[43mlabel\u001b[49m\u001b[43m,\u001b[49m\u001b[43m \u001b[49m\u001b[43maxis\u001b[49m\u001b[38;5;241;43m=\u001b[39;49m\u001b[43maxis\u001b[49m\u001b[43m)\u001b[49m\n",
      "File \u001b[0;32m/Library/Frameworks/Python.framework/Versions/3.9/lib/python3.9/site-packages/pandas/core/generic.py:3876\u001b[0m, in \u001b[0;36mNDFrame.xs\u001b[0;34m(self, key, axis, level, drop_level)\u001b[0m\n\u001b[1;32m   3874\u001b[0m             new_index \u001b[38;5;241m=\u001b[39m index[loc]\n\u001b[1;32m   3875\u001b[0m \u001b[38;5;28;01melse\u001b[39;00m:\n\u001b[0;32m-> 3876\u001b[0m     loc \u001b[38;5;241m=\u001b[39m \u001b[43mindex\u001b[49m\u001b[38;5;241;43m.\u001b[39;49m\u001b[43mget_loc\u001b[49m\u001b[43m(\u001b[49m\u001b[43mkey\u001b[49m\u001b[43m)\u001b[49m\n\u001b[1;32m   3878\u001b[0m     \u001b[38;5;28;01mif\u001b[39;00m \u001b[38;5;28misinstance\u001b[39m(loc, np\u001b[38;5;241m.\u001b[39mndarray):\n\u001b[1;32m   3879\u001b[0m         \u001b[38;5;28;01mif\u001b[39;00m loc\u001b[38;5;241m.\u001b[39mdtype \u001b[38;5;241m==\u001b[39m np\u001b[38;5;241m.\u001b[39mbool_:\n",
      "File \u001b[0;32m/Library/Frameworks/Python.framework/Versions/3.9/lib/python3.9/site-packages/pandas/core/indexes/range.py:387\u001b[0m, in \u001b[0;36mRangeIndex.get_loc\u001b[0;34m(self, key, method, tolerance)\u001b[0m\n\u001b[1;32m    385\u001b[0m         \u001b[38;5;28;01mreturn\u001b[39;00m \u001b[38;5;28mself\u001b[39m\u001b[38;5;241m.\u001b[39m_range\u001b[38;5;241m.\u001b[39mindex(new_key)\n\u001b[1;32m    386\u001b[0m     \u001b[38;5;28;01mexcept\u001b[39;00m \u001b[38;5;167;01mValueError\u001b[39;00m \u001b[38;5;28;01mas\u001b[39;00m err:\n\u001b[0;32m--> 387\u001b[0m         \u001b[38;5;28;01mraise\u001b[39;00m \u001b[38;5;167;01mKeyError\u001b[39;00m(key) \u001b[38;5;28;01mfrom\u001b[39;00m \u001b[38;5;21;01merr\u001b[39;00m\n\u001b[1;32m    388\u001b[0m \u001b[38;5;28mself\u001b[39m\u001b[38;5;241m.\u001b[39m_check_indexing_error(key)\n\u001b[1;32m    389\u001b[0m \u001b[38;5;28;01mraise\u001b[39;00m \u001b[38;5;167;01mKeyError\u001b[39;00m(key)\n",
      "\u001b[0;31mKeyError\u001b[0m: 147790"
     ]
    }
   ],
   "source": [
    "# check imputed data against real data\n",
    "\n",
    "total_diff = 0\n",
    "\n",
    "\n",
    "for ind in df_update1.index:\n",
    "\n",
    "    # df.loc[df['newIndex'] == ind]\n",
    "\n",
    "    # print(new_data_ind.loc[new_data_ind['newIndex'] == ind][\"MonthlyIncome\"])\n",
    "\n",
    "    # if np.isnan(data_no_outlier.loc[ind, 'MonthlyIncome']) or np.isnan(new_data_ind.loc[new_data_ind['newIndex'] == ind][\"MonthlyIncome\"]):\n",
    "\n",
    "    print(new_data_ind.loc[ind])\n",
    "\n",
    "    # if np.isnan(data_no_outlier['MonthlyIncome'][ind]) or np.isnan(new_data_ind[[ind]]):\n",
    "        # total_diff += 0\n",
    "\n",
    "    # else:\n",
    "        # difference = (data_no_outlier['MonthlyIncome'][ind]) - (new_data_ind['MonthlyIncome'][ind])\n",
    "        # difference = (data_no_outlier.loc[ind, 'MonthlyIncome']) - (new_data_ind.loc[new_data_ind['newIndex'] == ind][\"MonthlyIncome\"])\n",
    "        # print(difference)\n",
    "        # total_diff += abs(difference)\n",
    "\n",
    "print(total_diff/100)\n",
    "\n"
   ]
  },
  {
   "cell_type": "code",
   "execution_count": 131,
   "metadata": {},
   "outputs": [
    {
     "output_type": "stream",
     "name": "stdout",
     "text": [
      "0.9511031275130162\n"
     ]
    }
   ],
   "source": [
    "total_diff = 0\n",
    "\n",
    "\n",
    "for ind in df_update2.index:\n",
    "\n",
    "    # print(str(data_no_outlier['NumberOfDependents'][ind]) + \", \" + str(new_data2['NumberOfDependents'][ind]))\n",
    "\n",
    "    if np.isnan(data_no_outlier['NumberOfDependents'][ind]) or np.isnan(new_data_ind['NumberOfDependents'][ind]):\n",
    "        total_diff += 0\n",
    "\n",
    "    else:\n",
    "        difference = (data_no_outlier['NumberOfDependents'][ind]) - (new_data_ind['NumberOfDependents'][ind])\n",
    "        # print(difference)\n",
    "        total_diff += abs(difference)\n",
    "\n",
    "print(total_diff/100)"
   ]
  },
  {
   "cell_type": "code",
   "execution_count": null,
   "metadata": {},
   "outputs": [],
   "source": []
  }
 ]
}